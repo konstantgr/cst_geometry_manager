{
 "cells": [
  {
   "cell_type": "code",
   "execution_count": 5,
   "metadata": {},
   "outputs": [],
   "source": [
    "import sys\n",
    "sys.path.append(\"..\")\n",
    "from cst_geometry_manager import Wire, Geometry\n",
    "from cst_geometry_manager import simple_geometries\n",
    "\n",
    "path_to_CST_DE = \"C:\\Program Files (x86)\\CST Studio Suite 2021\\CST DESIGN ENVIRONMENT.exe\"\n",
    "\n"
   ]
  },
  {
   "cell_type": "code",
   "execution_count": 6,
   "metadata": {},
   "outputs": [
    {
     "name": "stdout",
     "output_type": "stream",
     "text": [
      "circular_geometry.txt successfully added\n"
     ]
    }
   ],
   "source": [
    "def circular_geometry_equal_wires(length, number_of_wires, radius):\n",
    "    lengths = [length for i in range(number_of_wires)]\n",
    "    \n",
    "    circular_geometry = simple_geometries.get_circular_geometry(\n",
    "        radius=radius, lengths_of_wires=lengths, wire_radius=1e-3, delta_angle=0\n",
    "    )\n",
    "    return circular_geometry\n",
    "\n",
    "\n",
    "def main():\n",
    "    circular_geometry = circular_geometry_equal_wires(2, 4, 4)\n",
    "    output = circular_geometry.create_cst_project(\n",
    "        name='circular_geometry',\n",
    "        path_to_CST_DE=path_to_CST_DE\n",
    "    )\n",
    "\n",
    "    return output\n",
    "\n",
    "output = main()\n"
   ]
  },
  {
   "cell_type": "code",
   "execution_count": 7,
   "metadata": {},
   "outputs": [
    {
     "name": "stdout",
     "output_type": "stream",
     "text": [
      "This is CST DESIGN ENVIRONMENT 2021.2 Release from 2021-01-06 (change 838225)\n",
      "\n",
      "Using install path: C:\\Program Files (x86)\\CST Studio Suite 2021\\\n",
      "\n",
      "Using Qt 5.14.2 (compiled with 5.14.2)\n",
      "\n",
      "\n",
      "\n",
      "Checking license servers...\n",
      "\n",
      "License search path found in CST registry: @cst.metalab.ifmo.ru\n",
      "\n",
      "Checking license at startup successfully passed.\n",
      "\n",
      "Connected to license server: 27000@cst.metalab.ifmo.ru\n",
      "\n",
      "[modeler_AMD64.exe] This is the modeler 2021.2 Release from 2021-01-06 (change 838225)\n",
      "\n",
      "[modeler_AMD64.exe] Startup: 30.07.2021 12:42:36\n",
      "\n",
      "[modeler_AMD64.exe] \n",
      "\n",
      "[modeler_AMD64.exe] Modeler affinity of main thread: 1111 1111 \n",
      "\n",
      "[modeler_AMD64.exe] \n",
      "\n",
      "[modeler_AMD64.exe] thread setup 1: 4, 8\n",
      "\n",
      "[modeler_AMD64.exe]   sockets         : 1\n",
      "\n",
      "[modeler_AMD64.exe]   cores per socket: 4\n",
      "\n",
      "[modeler_AMD64.exe]   ht units        : 2\n",
      "\n",
      "[modeler_AMD64.exe]   acc. hw         : 8\n",
      "\n",
      "[modeler_AMD64.exe]   acc. OSI        : 8\n",
      "\n",
      "[modeler_AMD64.exe]   aff. available  : yes\n",
      "\n",
      "[modeler_AMD64.exe]   OSI log         : CPUID: selected engine is 'Leaf 0xB detection'\n",
      "\n",
      "[modeler_AMD64.exe] Logical  0: socket  0 core  0\n",
      "\n",
      "[modeler_AMD64.exe] Logical  1: socket  0 core  1\n",
      "\n",
      "[modeler_AMD64.exe] Logical  2: socket  0 core  2\n",
      "\n",
      "[modeler_AMD64.exe] Logical  3: socket  0 core  3\n",
      "\n",
      "[modeler_AMD64.exe] Logical  4: socket  0 core  4\n",
      "\n",
      "[modeler_AMD64.exe] Logical  5: socket  0 core  5\n",
      "\n",
      "[modeler_AMD64.exe] Logical  6: socket  0 core  6\n",
      "\n",
      "[modeler_AMD64.exe] Logical  7: socket  0 core  7\n",
      "\n",
      "[modeler_AMD64.exe] packages: 1\n",
      "\n",
      "[modeler_AMD64.exe] cores   : 4\n",
      "\n",
      "[modeler_AMD64.exe] ht units: 2\n",
      "\n",
      "[modeler_AMD64.exe] \n",
      "\n",
      "[modeler_AMD64.exe] \n",
      "\n",
      "[modeler_AMD64.exe] thread setup 2: 4\n",
      "\n",
      "[modeler_AMD64.exe] thread setup 3: 1024 --> 4\n",
      "\n",
      "[modeler_AMD64.exe] Modeler openmp threads: 4\n",
      "\n",
      "[modeler_AMD64.exe] Parallel ACIS is active. Starting 8 worker threads for ACIS.\n",
      "\n",
      "[schematic_AMD64.exe] This is the schematic 2021.2 Release from 2021-01-06 (change 838225)\n",
      "\n",
      "[schematic_AMD64.exe] \n",
      "\n",
      "[schematic_AMD64.exe] \n",
      "\n",
      "[schematic_AMD64.exe] project name: c:\\users\\konstantin.grotov\\appdata\\local\\temp\\5\\cstde1\\temp\\de8\\untitled_0.cst\n",
      "\n",
      "[schematic_AMD64.exe] \n",
      "\n",
      "[schematic_AMD64.exe] \n",
      "\n",
      "[schematic_AMD64.exe] myname: C:\\Program Files (x86)\\CST Studio Suite 2021\\AMD64\\schematic_AMD64.exe\n",
      "\n",
      "[schematic_AMD64.exe] \n",
      "\n",
      "Batch run finished successfully\n",
      "\n",
      "Save after batch run was rejected\n",
      "\n",
      "[modeler_AMD64.exe] Modeler finished successfully\n",
      "\n",
      "Exiting with exit code 0. Exit code info: (EXITCODE_SUCCESS)\n",
      "\n",
      "\n"
     ]
    }
   ],
   "source": [
    "print(output)\n"
   ]
  },
  {
   "cell_type": "code",
   "execution_count": null,
   "metadata": {},
   "outputs": [],
   "source": []
  }
 ],
 "metadata": {
  "kernelspec": {
   "display_name": "Python 3",
   "language": "python",
   "name": "python3"
  },
  "language_info": {
   "codemirror_mode": {
    "name": "ipython",
    "version": 3
   },
   "file_extension": ".py",
   "mimetype": "text/x-python",
   "name": "python",
   "nbconvert_exporter": "python",
   "pygments_lexer": "ipython3",
   "version": "3.8.5"
  }
 },
 "nbformat": 4,
 "nbformat_minor": 4
}
